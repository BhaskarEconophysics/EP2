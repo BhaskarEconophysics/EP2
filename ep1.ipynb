{
  "nbformat": 4,
  "nbformat_minor": 0,
  "metadata": {
    "colab": {
      "provenance": [],
      "authorship_tag": "ABX9TyMkbf4WN1R/+YAg6/gltWm1",
      "include_colab_link": true
    },
    "kernelspec": {
      "name": "python3",
      "display_name": "Python 3"
    },
    "language_info": {
      "name": "python"
    }
  },
  "cells": [
    {
      "cell_type": "markdown",
      "metadata": {
        "id": "view-in-github",
        "colab_type": "text"
      },
      "source": [
        "<a href=\"https://colab.research.google.com/github/BhaskarEconophysics/EP2/blob/main/ep1.ipynb\" target=\"_parent\"><img src=\"https://colab.research.google.com/assets/colab-badge.svg\" alt=\"Open In Colab\"/></a>"
      ]
    },
    {
      "cell_type": "code",
      "execution_count": null,
      "metadata": {
        "id": "B2GifLWHodDe"
      },
      "outputs": [],
      "source": [
        "pip install statistics"
      ]
    },
    {
      "cell_type": "code",
      "source": [
        "import math\n",
        "import statistics as st"
      ],
      "metadata": {
        "id": "-REtcaZcpSGV"
      },
      "execution_count": 3,
      "outputs": []
    },
    {
      "cell_type": "code",
      "source": [],
      "metadata": {
        "id": "4uhsNSqdpWxe"
      },
      "execution_count": null,
      "outputs": []
    }
  ]
}